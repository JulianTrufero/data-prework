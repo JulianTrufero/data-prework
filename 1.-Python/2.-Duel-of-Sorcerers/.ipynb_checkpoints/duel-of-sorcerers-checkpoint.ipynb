{
 "cells": [
  {
   "cell_type": "markdown",
   "metadata": {},
   "source": [
    "<img src=\"https://bit.ly/2VnXWr2\" width=\"100\" align=\"left\">"
   ]
  },
  {
   "cell_type": "markdown",
   "metadata": {},
   "source": [
    "# Duel of Sorcerers\n",
    "You are witnessing an epic battle between two powerful sorcerers: Gandalf and Saruman. Each sorcerer has 10 spells of variable power in their mind and they are going to throw them one after the other. The winner of the duel will be the one who wins more of those clashes between spells. Spells are represented as a list of 10 integers whose value equals the power of the spell.\n",
    "```\n",
    "gandalf = [10, 11, 13, 30, 22, 11, 10, 33, 22, 22]\n",
    "saruman = [23, 66, 12, 43, 12, 10, 44, 23, 12, 17]\n",
    "```\n",
    "For example:\n",
    "- The first clash is won by Saruman: 10 against 23.\n",
    "- The second clash is won by Saruman: 11 against 66.\n",
    "- ...\n",
    "\n",
    "You will create two variables, one for each sorcerer, where the sum of clashes won will be stored. Depending on which variable is greater at the end of the duel, you will show one of the following three results on the screen:\n",
    "* Gandalf wins\n",
    "* Saruman wins\n",
    "* Tie\n",
    "\n",
    "<img src=\"images/content_lightning_bolt_big.jpg\" width=\"400\">"
   ]
  },
  {
   "cell_type": "markdown",
   "metadata": {},
   "source": [
    "## Tools\n",
    "You don't necessarily need to use all the tools. Maybe you opt to use some of them or completely different ones, they are given to help you shape the exercise. Programming exercises can be solved in many different ways.\n",
    "\n",
    "1. Data structures: **lists, dictionaries**\n",
    "2. Loop: **for loop**\n",
    "3. Conditional statements: **if-elif-else**\n",
    "4. Functions: **range(), len(), print()**\n",
    "\n",
    "## Tasks\n",
    "\n",
    "#### 1. Create two variables called `gandalf` and `saruman` and assign them the spell power lists. Create a variable called `spells` to store the number of spells that the sorcerers cast. "
   ]
  },
  {
   "cell_type": "code",
   "execution_count": null,
   "metadata": {},
   "outputs": [],
   "source": [
    "gandalf = [10, 11, 13, 30, 22, 11, 10, 33, 22, 22]\n",
    "saruman = [23, 66, 12, 43, 12, 10, 44, 23, 12, 17]\n",
    "\n",
    "spells = len(gandalf)"
   ]
  },
  {
   "cell_type": "markdown",
   "metadata": {},
   "source": [
    "#### 2. Create two variables called `gandalf_wins` and `saruman_wins`. Set both of them to 0. \n",
    "You will use these variables to count the number of clashes each sorcerer wins. "
   ]
  },
  {
   "cell_type": "code",
   "execution_count": null,
   "metadata": {},
   "outputs": [],
   "source": [
    "gandalf_wins = 0\n",
    "saruman_wins = 0"
   ]
  },
  {
   "cell_type": "markdown",
   "metadata": {},
   "source": [
    "#### 3. Using the lists of spells of both sorcerers, update variables `gandalf_wins` and `saruman_wins` to count the number of times each sorcerer wins a clash. "
   ]
  },
  {
   "cell_type": "code",
   "execution_count": null,
   "metadata": {},
   "outputs": [],
   "source": [
    "for i in range(0, spells):\n",
    "    if gandalf[i] > saruman[i]:\n",
    "        gandalf_wins += 1\n",
    "    else:\n",
    "        saruman_wins += 1\n",
    "\n",
    "print('Gandalf won:', gandalf_wins, 'clashes')\n",
    "print('Saruman won:', saruman_wins, 'clashes')"
   ]
  },
  {
   "cell_type": "markdown",
   "metadata": {},
   "source": [
    "#### 4. Who won the battle?\n",
    "Print `Gandalf wins`, `Saruman wins` or `Tie` depending on the result. "
   ]
  },
  {
   "cell_type": "code",
   "execution_count": null,
   "metadata": {},
   "outputs": [],
   "source": [
    "if gandalf_wins > saruman_wins:\n",
    "    print('Gandalf won the battle')\n",
    "elif gandalf_wins == saruman_wins:\n",
    "    print('Tie')\n",
    "else: \n",
    "    print('Saruman won the battle') "
   ]
  },
  {
   "cell_type": "markdown",
   "metadata": {},
   "source": [
    "## Bonus\n",
    "\n",
    "In this bonus challenge, you'll need to check the winner of the battle but this time, a sorcerer wins if he succeeds in winning 3 spell clashes in a row.\n",
    "\n",
    "Also, the spells now have a name and there is a dictionary that associates that name to a power.\n",
    "\n",
    "```\n",
    "POWER = {\n",
    "    'Fireball': 50, \n",
    "    'Lightning bolt': 40, \n",
    "    'Magic arrow': 10, \n",
    "    'Black Tentacles': 25, \n",
    "    'Contagion': 45\n",
    "}\n",
    "\n",
    "gandalf = ['Fireball', 'Lightning bolt', 'Lightning bolt', 'Magic arrow', 'Fireball', \n",
    "           'Magic arrow', 'Lightning bolt', 'Fireball', 'Fireball', 'Fireball']\n",
    "saruman = ['Contagion', 'Contagion', 'Black Tentacles', 'Fireball', 'Black Tentacles', \n",
    "           'Lightning bolt', 'Magic arrow', 'Contagion', 'Magic arrow', 'Magic arrow']\n",
    "```\n",
    "\n",
    "#### 1. Create variables `POWER`, `gandalf` and `saruman` as seen above. Create a variable called `spells` to store the number of spells that the sorcerers cast. "
   ]
  },
  {
   "cell_type": "code",
   "execution_count": null,
   "metadata": {},
   "outputs": [],
   "source": [
    "powers = {\n",
    "    'Fireball': 50, \n",
    "    'Lightning bolt': 40, \n",
    "    'Magic arrow': 10, \n",
    "    'Black Tentacles': 25, \n",
    "    'Contagion': 45\n",
    "}\n",
    "\n",
    "gandalf = ['Fireball', 'Lightning bolt', 'Lightning bolt', 'Magic arrow', 'Fireball', \n",
    "           'Magic arrow', 'Lightning bolt', 'Fireball', 'Fireball', 'Fireball']\n",
    "saruman = ['Contagion', 'Contagion', 'Black Tentacles', 'Fireball', 'Black Tentacles', \n",
    "           'Lightning bolt', 'Magic arrow', 'Contagion', 'Magic arrow', 'Magic arrow']\n",
    "           \n",
    "spells = len(gandalf)"
   ]
  },
  {
   "cell_type": "markdown",
   "metadata": {},
   "source": [
    "#### 2. Create two variables called `gandalf_wins` and `saruman_wins`. Set both of them to 0. "
   ]
  },
  {
   "cell_type": "code",
   "execution_count": null,
   "metadata": {},
   "outputs": [],
   "source": [
    "gandalf_wins = 0\n",
    "saruman_wins = 0"
   ]
  },
  {
   "cell_type": "markdown",
   "metadata": {},
   "source": [
    "#### 3. Create two variables called `gandalf_power` and `saruman_power` to store the list of spell powers of each sorcerer."
   ]
  },
  {
   "cell_type": "code",
   "execution_count": null,
   "metadata": {},
   "outputs": [],
   "source": [
    "gandalf_powers = [] \n",
    "saruman_powers = []"
   ]
  },
  {
   "cell_type": "markdown",
   "metadata": {},
   "source": [
    "#### 4. The battle starts! Using the variables you've created above, code the execution of spell clashes. Remember that a sorcerer wins if he succeeds in winning 3 spell clashes in a row. \n",
    "If a clash ends up in a tie, the counter of wins in a row is not restarted to 0. Remember to print who is the winner of the battle. "
   ]
  },
  {
   "cell_type": "code",
   "execution_count": null,
   "metadata": {},
   "outputs": [],
   "source": [
    "for i in range(0, spells):\n",
    "    if gandalf[i] == 'Fireball':\n",
    "        gandalf_powers.append(50)\n",
    "    \n",
    "    elif gandalf[i] == 'Lightning bolt':\n",
    "        gandalf_powers.append(40)\n",
    "    \n",
    "    elif gandalf[i] == 'Magic arrow':\n",
    "        gandalf_powers.append(10)\n",
    "\n",
    "    elif gandalf[i] == 'Black Tentacles':\n",
    "        gandalf_powers.append(25)\n",
    "\n",
    "    elif gandalf[i] == 'Contagion':\n",
    "        gandalf_powers.append(45)\n",
    "\n",
    "for i in range(0, spells):\n",
    "    if saruman[i] == 'Fireball':\n",
    "        saruman_powers.append(50)\n",
    "\n",
    "    elif saruman[i] == 'Lightning bolt':\n",
    "        saruman_powers.append(40)\n",
    "    \n",
    "    elif saruman[i] == 'Magic arrow':\n",
    "        saruman_powers.append(10)\n",
    "\n",
    "    elif saruman[i] == 'Black Tentacles':\n",
    "        saruman_powers.append(25)\n",
    "\n",
    "    elif saruman[i] == 'Contagion' :\n",
    "        saruman_powers.append(45)\n",
    "\n",
    "clash_counter = []\n",
    "\n",
    "for k in range(0, len(gandalf_powers)):\n",
    "    if gandalf_powers[k] > saruman_powers[k]:\n",
    "        clash_counter.append('G')\n",
    "    else:\n",
    "        clash_counter.append('S') \n",
    "\n",
    "print('Clash winners', clash_counter)\n",
    "\n",
    "battle = []\n",
    "\n",
    "for j in range(len(clash_counter) - 2):\n",
    "    if clash_counter[j] == clash_counter[j+1] and clash_counter[j+1] == clash_counter[j+2]:\n",
    "        battle.append(clash_counter[j])\n",
    "\n",
    "if battle[0] == 'G':\n",
    "    gandalf_wins += 1\n",
    "    print('Gandalf won 3 clashes in a row')\n",
    "elif battle[0] == 'S':\n",
    "    saruman_wins += 1\n",
    "    print('Saruman won 3 clashes in a row')\n",
    "\n",
    "if gandalf_wins > saruman_wins:\n",
    "    print('Gandalf won the battle')\n",
    "\n",
    "elif gandalf_wins == saruman_wins:\n",
    "    print('Tie')\n",
    "    \n",
    "else: \n",
    "    print('Saruman won the battle') "
   ]
  },
  {
   "cell_type": "markdown",
   "metadata": {},
   "source": [
    "#### 5. Find the average spell power of Gandalf and Saruman. "
   ]
  },
  {
   "cell_type": "code",
   "execution_count": null,
   "metadata": {},
   "outputs": [],
   "source": [
    "avg_power_gandalf = sum(gandalf_powers)/len(gandalf_powers)\n",
    "\n",
    "avg_power_saruman = sum(saruman_powers)/len(saruman_powers)\n",
    "\n",
    "print('The average power of gandalf is: ',avg_power_gandalf)\n",
    "print('The average power of saruman is: ',avg_power_saruman)"
   ]
  },
  {
   "cell_type": "markdown",
   "metadata": {},
   "source": [
    "#### 6. Find the standard deviation of the spell power of Gandalf and Saruman. "
   ]
  },
  {
   "cell_type": "code",
   "execution_count": null,
   "metadata": {},
   "outputs": [],
   "source": [
    "for i in gandalf_powers:\n",
    "    i = (i - avg_power_gandalf) ** 2\n",
    "    squared_deviations_gandalf.append(i)\n",
    "\n",
    "standard_deviation_gandalf = (sum(squared_deviations_gandalf)/len(squared_deviations_gandalf)) ** (1/2)\n",
    "\n",
    "print('The standardeviation for gandalf is: ',standard_deviation_gandalf)\n",
    "\n",
    "squared_deviations_saruman = []\n",
    "\n",
    "for i in saruman_powers:\n",
    "    i = (i - avg_power_saruman) ** 2\n",
    "    squared_deviations_saruman.append(i)\n",
    "\n",
    "standard_deviation_saruman = (sum(squared_deviations_saruman)/len(squared_deviations_saruman)) ** (1/2)\n",
    "\n",
    "print('The standar deviation for sauman is: ', standard_deviation_saruman)"
   ]
  }
 ],
 "metadata": {
  "kernelspec": {
   "display_name": "Python 3",
   "language": "python",
   "name": "python3"
  },
  "language_info": {
   "codemirror_mode": {
    "name": "ipython",
    "version": 3
   },
   "file_extension": ".py",
   "mimetype": "text/x-python",
   "name": "python",
   "nbconvert_exporter": "python",
   "pygments_lexer": "ipython3",
   "version": "3.9.5"
  }
 },
 "nbformat": 4,
 "nbformat_minor": 2
}
