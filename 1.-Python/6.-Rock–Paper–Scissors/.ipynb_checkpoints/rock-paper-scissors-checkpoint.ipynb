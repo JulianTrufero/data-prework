{
 "cells": [
  {
   "cell_type": "markdown",
   "metadata": {},
   "source": [
    "<img src=\"https://bit.ly/2VnXWr2\" width=\"100\" align=\"left\">"
   ]
  },
  {
   "cell_type": "markdown",
   "metadata": {},
   "source": [
    "# Rock, Paper & Scissors\n",
    "\n",
    "Let's play the famous game against our computer. You can check the rules [here](https://en.wikipedia.org/wiki/Rock%E2%80%93paper%E2%80%93scissors). \n",
    "\n",
    "## Task\n",
    "Create a program that imitates the playability of the well known game of rock, paper, scissors. Follow the guidelines provided.\n",
    "\n",
    "## Tools\n",
    "1. Loop: **for/while**\n",
    "2. Functions: **input(), print()...**\n",
    "3. Conditional statements: **if, elif, else**\n",
    "4. Definition of functions. Modular programming\n",
    "5. Import modules\n",
    "\n",
    "**To solve this challenge, the use of functions is recommended.**\n",
    "\n",
    "#### 1. Import the choice function of the random module."
   ]
  },
  {
   "cell_type": "code",
   "execution_count": null,
   "metadata": {},
   "outputs": [],
   "source": [
    "import random"
   ]
  },
  {
   "cell_type": "markdown",
   "metadata": {},
   "source": [
    "#### 2. Create a list that includes the 3 possible gesture options of the game: 'rock', 'paper' or 'scissors'. Store the list in a variable called `gestures`."
   ]
  },
  {
   "cell_type": "code",
   "execution_count": null,
   "metadata": {},
   "outputs": [],
   "source": [
    "gestures = ['rock', 'paper', 'scissors']"
   ]
  },
  {
   "cell_type": "markdown",
   "metadata": {},
   "source": [
    "#### 3. Create a variable called `n_rounds` to store the maximum number of rounds to play in a game. \n",
    "Remember that the number of rounds must be odd: 1, 3, 5, ..."
   ]
  },
  {
   "cell_type": "code",
   "execution_count": null,
   "metadata": {},
   "outputs": [],
   "source": [
    "n_rounds = int(input(\"How many rounds you'd like to play?: \"))\n",
    "while (n_rounds % 2) == 0:\n",
    "    print('The number of rounds must be odd')\n",
    "    n_rounds = int(input('Please select again the number of rounds:'))"
   ]
  },
  {
   "cell_type": "markdown",
   "metadata": {},
   "source": [
    "#### 4. Create a variable called `rounds_to_win` to store the number of rounds that a player must win to win the game.\n",
    "**Hint**: the value stored in `rounds_to_win` depends on the value of `n_rounds`. "
   ]
  },
  {
   "cell_type": "code",
   "execution_count": null,
   "metadata": {},
   "outputs": [],
   "source": [
    "rounds_t_win = int((n_rounds/2) + 1)\n",
    "print(f\"You'll need to win {rounds_t_win} rounds to be the winner of the game\")"
   ]
  },
  {
   "cell_type": "markdown",
   "metadata": {},
   "source": [
    "#### 5. Create two variables to store the number of rounds that the computer and the player have won. Call these variables `cpu_score` and `player_score`."
   ]
  },
  {
   "cell_type": "code",
   "execution_count": null,
   "metadata": {},
   "outputs": [],
   "source": [
    "cpu_score = []\n",
    "player_score = []"
   ]
  },
  {
   "cell_type": "markdown",
   "metadata": {},
   "source": [
    "#### 6. Define a function that randomly returns one of the 3 gesture options.\n",
    "You will use this function to simulate the gesture choice of the computer. "
   ]
  },
  {
   "cell_type": "code",
   "execution_count": null,
   "metadata": {},
   "outputs": [],
   "source": [
    "cpuchoice = []\n",
    "def cpuplays():\n",
    "     cpuplays = random.sample(gestures, k=1)\n",
    "     cpuchoice.append(cpuplays[0])"
   ]
  },
  {
   "cell_type": "markdown",
   "metadata": {},
   "source": [
    "#### 7. Define a function that asks the player which is the gesture he or she wants to show: 'rock', 'paper' or 'scissors'.\n",
    "The player should only be allowed to choose one of the 3 gesture options. If the player's choice is not rock, paper or scissors, keep asking until it is."
   ]
  },
  {
   "cell_type": "code",
   "execution_count": null,
   "metadata": {},
   "outputs": [],
   "source": [
    "playerchoice = []\n",
    "def player():\n",
    "     player = input(\"Wich gesture you'd like to show?: \")\n",
    "     while player not in gestures:\n",
    "        print('Please choose between rock, paper or scissors:')\n",
    "        player = input()\n",
    "     playerchoice.append(player) "
   ]
  },
  {
   "cell_type": "markdown",
   "metadata": {},
   "source": [
    "#### 8. Define a function that checks who won a round. \n",
    "The function should return 0 if there is a tie, 1 if the computer wins and 2 if the player wins."
   ]
  },
  {
   "cell_type": "code",
   "execution_count": null,
   "metadata": {},
   "outputs": [],
   "source": [
    "roundwinner = []\n",
    "def round_winner(i):\n",
    "    round_winner = 0\n",
    "    if cpuchoice[i] == gestures[0]:\n",
    "        if playerchoice[i] == gestures[1]:\n",
    "            round_winner += 2\n",
    "            roundwinner.append(round_winner)\n",
    "        elif playerchoice[i] == gestures[2]:\n",
    "            round_winner += 1\n",
    "            roundwinner.append(round_winner)\n",
    "        else: \n",
    "            round_winner += 0\n",
    "            roundwinner.append(round_winner)\n",
    "    elif cpuchoice[i] == gestures[1]:\n",
    "        if playerchoice[i] == gestures[2]:\n",
    "            round_winner += 2\n",
    "            roundwinner.append(round_winner)\n",
    "        elif playerchoice[i] == gestures[0]:\n",
    "            round_winner += 1\n",
    "            roundwinner.append(round_winner)\n",
    "        else: \n",
    "            round_winner += 0\n",
    "            roundwinner.append(round_winner)\n",
    "    elif cpuchoice[i] == gestures[2]:\n",
    "        if playerchoice[i] == gestures[0]:\n",
    "            round_winner += 2\n",
    "            roundwinner.append(round_winner)\n",
    "        elif playerchoice[i] == gestures[1]:\n",
    "            round_winner += 1\n",
    "            roundwinner.append(round_winner)\n",
    "        else: \n",
    "            round_winner += 0\n",
    "            roundwinner.append(round_winner)"
   ]
  },
  {
   "cell_type": "markdown",
   "metadata": {},
   "source": [
    "#### 9. Define a function that prints the choice of the computer, the choice of the player and a message that announces who won the current round. \n",
    "You should also use this function to update the variables that count the number of rounds that the computer and the player have won. The score of the winner increases by one point. If there is a tie, the score does not increase."
   ]
  },
  {
   "cell_type": "code",
   "execution_count": null,
   "metadata": {},
   "outputs": [],
   "source": [
    "def roundcounter(i):\n",
    "        cpuscore = 0\n",
    "        playerscore = 0\n",
    "        print(f'The CPU choice is: {cpuchoice[i]}')\n",
    "        print(f'Your choice is: {playerchoice[i]}')\n",
    "        if roundwinner[i] == 1:\n",
    "            cpuscore +=1\n",
    "            cpu_score.append(cpuscore)\n",
    "            print('The winner of the round is the CPU')\n",
    "        elif roundwinner[i] == 2:\n",
    "            playerscore += 1\n",
    "            player_score.append(playerscore)\n",
    "            print('The winner of the round is the human player')\n",
    "        else:\n",
    "            print(\"It's a tie\")"
   ]
  },
  {
   "cell_type": "markdown",
   "metadata": {},
   "source": [
    "#### 10. Now it's time to code the execution of the game using the functions and variables you defined above. \n",
    "\n",
    "First, create a loop structure that repeats while no player reaches the minimum score necessary to win and the number of rounds is less than the maximum number of rounds to play in a game.  \n",
    "\n",
    "Inside the loop, use the functions and variables above to create the execution of a round: ask for the player's choice, generate the random choice of the computer, show the round results, update the scores, etc. "
   ]
  },
  {
   "cell_type": "code",
   "execution_count": null,
   "metadata": {},
   "outputs": [],
   "source": [
    "for i in range(0, n_rounds):\n",
    "    cpuplays()\n",
    "    player()\n",
    "    round_winner(i)\n",
    "    roundcounter(i)\n",
    "\n",
    "while len(cpu_score) < rounds_t_win and len(player_score) < rounds_t_win: \n",
    "    for j in range(len(cpuchoice), len(cpuchoice) + 1):\n",
    "        cpuplays()\n",
    "        player()\n",
    "        round_winner(j)\n",
    "        roundcounter(j)"
   ]
  },
  {
   "cell_type": "markdown",
   "metadata": {},
   "source": [
    "#### 11. Print the winner of the game based on who won more rounds.\n",
    "Remember that the game might be tied. "
   ]
  },
  {
   "cell_type": "code",
   "execution_count": null,
   "metadata": {},
   "outputs": [],
   "source": [
    "if len(cpu_score) < len(player_score):\n",
    "    print('THE WINNER OF THE GAME IS YOU')\n",
    "elif len(cpu_score) > len(player_score):\n",
    "    print('THE WINNER OF THE GAME IS CPU')\n",
    "else:\n",
    "    print('The game is tied')"
   ]
  },
  {
   "cell_type": "markdown",
   "metadata": {},
   "source": [
    "# Bonus: Rock, Paper, Scissors, Lizard & Spock\n",
    "![](images/rpsls.jpg)\n",
    "\n",
    "In this challenge, you need to improve the previous game by adding two new options. To know more about the rules of the improved version of rock, paper, scissors, check this [link](http://www.samkass.com/theories/RPSSL.html). \n",
    "\n",
    "In addition, you will also need to improve how the game interacts with the player: the number of rounds to play, which must be an odd number, will be requested to the user until a valid number is entered. Define a new function to make that request.\n",
    "\n",
    "**Hint**: Try to reuse the code that you already coded in the previous challenge. If your code is efficient, this bonus will only consist of simple modifications to the original game."
   ]
  },
  {
   "cell_type": "code",
   "execution_count": null,
   "metadata": {},
   "outputs": [],
   "source": [
    "import random\n",
    "\n",
    "gestures = ['rock', 'paper', 'scissors', 'lizard', 'spock']\n",
    "\n",
    "\n",
    "n_rounds = int(input(\"How many rounds you'd like to play?: \"))\n",
    "while (n_rounds % 2) == 0:\n",
    "    print('The number of rounds must be odd')\n",
    "    n_rounds = int(input('Please select again the number of rounds:'))\n",
    "\n",
    "rounds_t_win = int((n_rounds/2) + 1)\n",
    "print(f\"You'll need to win {rounds_t_win} rounds to be the winner of the game\")\n",
    "\n",
    "cpu_score = []\n",
    "player_score = []\n",
    "\n",
    "cpuchoice = []\n",
    "def cpuplays():\n",
    "     cpuplays = random.sample(gestures, k=1)\n",
    "     cpuchoice.append(cpuplays[0])\n",
    "     \n",
    "playerchoice = []\n",
    "def player():\n",
    "     player = input(\"Wich gesture you'd like to show?: \")\n",
    "     while player not in gestures:\n",
    "        print('Please choose between rock, paper, scissors, lizard or spock:')\n",
    "        player = input()\n",
    "     playerchoice.append(player)  \n",
    "\n",
    "\n",
    "roundwinner = []\n",
    "def round_winner(i):\n",
    "    round_winner = 0\n",
    "    if cpuchoice[i] == gestures[0]:\n",
    "        if playerchoice[i] == gestures[1]:\n",
    "            round_winner += 2\n",
    "            roundwinner.append(round_winner)\n",
    "        elif playerchoice[i] == gestures[2]:\n",
    "            round_winner += 1\n",
    "            roundwinner.append(round_winner)\n",
    "        elif playerchoice[i] == gestures[3]:\n",
    "            round_winner += 1\n",
    "            roundwinner.append(round_winner)\n",
    "        elif playerchoice[i] == gestures[4]:\n",
    "            round_winner += 2\n",
    "            roundwinner.append(round_winner)\n",
    "        else: \n",
    "            round_winner += 0\n",
    "            roundwinner.append(round_winner)\n",
    "    elif cpuchoice[i] == gestures[1]:\n",
    "        if playerchoice[i] == gestures[2]:\n",
    "            round_winner += 2\n",
    "            roundwinner.append(round_winner)\n",
    "        elif playerchoice[i] == gestures[0]:\n",
    "            round_winner += 1\n",
    "            roundwinner.append(round_winner)\n",
    "        elif playerchoice[i] == gestures[3]:\n",
    "            round_winner += 2\n",
    "            roundwinner.append(round_winner)\n",
    "        elif playerchoice[i] == gestures[4]:\n",
    "            round_winner += 1\n",
    "            roundwinner.append(round_winner)\n",
    "        else: \n",
    "            round_winner += 0\n",
    "            roundwinner.append(round_winner)\n",
    "    elif cpuchoice[i] == gestures[2]:\n",
    "        if playerchoice[i] == gestures[0]:\n",
    "            round_winner += 2\n",
    "            roundwinner.append(round_winner)\n",
    "        elif playerchoice[i] == gestures[1]:\n",
    "            round_winner += 1\n",
    "            roundwinner.append(round_winner)\n",
    "        elif playerchoice[i] == gestures[3]:\n",
    "            round_winner += 1\n",
    "            roundwinner.append(round_winner)\n",
    "        elif playerchoice[i] == gestures[4]:\n",
    "            round_winner += 2\n",
    "            roundwinner.append(round_winner)\n",
    "        else: \n",
    "            round_winner += 0\n",
    "            roundwinner.append(round_winner)\n",
    "    elif cpuchoice[i] == gestures[3]:\n",
    "        if playerchoice[i] == gestures[0]:\n",
    "            round_winner += 2\n",
    "            roundwinner.append(round_winner)\n",
    "        elif playerchoice[i] == gestures[1]:\n",
    "            round_winner += 1\n",
    "            roundwinner.append(round_winner)\n",
    "        elif playerchoice[i] == gestures[2]:\n",
    "            round_winner += 2\n",
    "            roundwinner.append(round_winner)\n",
    "        elif playerchoice[i] == gestures[4]:\n",
    "            round_winner += 1\n",
    "            roundwinner.append(round_winner)\n",
    "        else: \n",
    "            round_winner += 0\n",
    "            roundwinner.append(round_winner)\n",
    "    elif cpuchoice[i] == gestures[4]:\n",
    "        if playerchoice[i] == gestures[0]:\n",
    "            round_winner += 1\n",
    "            roundwinner.append(round_winner)\n",
    "        elif playerchoice[i] == gestures[1]:\n",
    "            round_winner += 2\n",
    "            roundwinner.append(round_winner)\n",
    "        elif playerchoice[i] == gestures[2]:\n",
    "            round_winner += 1\n",
    "            roundwinner.append(round_winner)\n",
    "        elif playerchoice[i] == gestures[3]:\n",
    "            round_winner += 2\n",
    "            roundwinner.append(round_winner)           \n",
    "        else: \n",
    "            round_winner += 0\n",
    "            roundwinner.append(round_winner)\n",
    "\n",
    "def roundcounter(i):\n",
    "        cpuscore = 0\n",
    "        playerscore = 0\n",
    "        print(f'The CPU choice is: {cpuchoice[i]}')\n",
    "        print(f'Your choice is: {playerchoice[i]}')\n",
    "        if roundwinner[i] == 1:\n",
    "            cpuscore +=1\n",
    "            cpu_score.append(cpuscore)\n",
    "            print('The winner of the round is the CPU')\n",
    "        elif roundwinner[i] == 2:\n",
    "            playerscore += 1\n",
    "            player_score.append(playerscore)\n",
    "            print('The winner of the round is the human player')\n",
    "        else:\n",
    "            print(\"It's a tie\")\n",
    "\n",
    "for i in range(0, n_rounds):\n",
    "    cpuplays()\n",
    "    player()\n",
    "    round_winner(i)\n",
    "    roundcounter(i)\n",
    "\n",
    "while len(cpu_score) < rounds_t_win and len(player_score) < rounds_t_win: \n",
    "    for j in range(len(cpuchoice), len(cpuchoice) + 1):\n",
    "        cpuplays()\n",
    "        player()\n",
    "        round_winner(j)\n",
    "        roundcounter(j)\n",
    "\n",
    "if len(cpu_score) < len(player_score):\n",
    "    print('THE WINNER OF THE GAME IS YOU')\n",
    "elif len(cpu_score) > len(player_score):\n",
    "    print('THE WINNER OF THE GAME IS CPU')\n",
    "else:\n",
    "    print('The game is tied')"
   ]
  }
 ],
 "metadata": {
  "kernelspec": {
   "display_name": "Python 3",
   "language": "python",
   "name": "python3"
  },
  "language_info": {
   "codemirror_mode": {
    "name": "ipython",
    "version": 3
   },
   "file_extension": ".py",
   "mimetype": "text/x-python",
   "name": "python",
   "nbconvert_exporter": "python",
   "pygments_lexer": "ipython3",
   "version": "3.9.5"
  }
 },
 "nbformat": 4,
 "nbformat_minor": 2
}
