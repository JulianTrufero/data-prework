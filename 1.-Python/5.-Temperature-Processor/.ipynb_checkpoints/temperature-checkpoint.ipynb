{
 "cells": [
  {
   "cell_type": "markdown",
   "metadata": {},
   "source": [
    "<img src=\"https://bit.ly/2VnXWr2\" width=\"100\" align=\"left\">"
   ]
  },
  {
   "cell_type": "markdown",
   "metadata": {},
   "source": [
    "# Temperature Sensor\n",
    "\n",
    "There is a temperature sensor in the processor of your company's server. The company wants to analyze the data provided by the sensor to decide if they should change the cooling system for a better one. As changing the cooling system is expensive and you are an excellent data analyst, you can't make a decision without basis.\n",
    "\n",
    "## Tools\n",
    "You don't necessarily need to use all the tools. Maybe you opt to use some of them or completely different ones, they are given to help you shape the exercise. Programming exercises can be solved in many different ways.\n",
    "1. Data structures: **lists**\n",
    "2. Loops: **list comprehension**\n",
    "3. Functions: **min, max, print, len**\n",
    "4. Conditional statements: **if-elif-else**\n",
    "\n",
    "## Tasks\n",
    "The temperatures measured throughout the 24 hours of a day are:"
   ]
  },
  {
   "cell_type": "code",
   "execution_count": null,
   "metadata": {},
   "outputs": [],
   "source": [
    "temperatures_C = [33, 66, 65, 0, 59, 60, 62, 64, 70, 76, 80, 81, 80, 83, 90, 79, 61, 53, 50, 49, 53, 48, 45, 39]"
   ]
  },
  {
   "cell_type": "markdown",
   "metadata": {},
   "source": [
    "The first element of the list is the temperature at 12am, the second element is the temperature at 1am, and so on. \n",
    "\n",
    "The company has decided that if one of the following events occurs, then the cooling system needs to be replaced for a new one to avoid damaging the processor.\n",
    "* More than 4 temperatures are greater than or equal to 70ºC.\n",
    "* Any temperature is above 80ºC.\n",
    "* The average temperature exceeds 65ºC.\n",
    "\n",
    "Follow the steps so that you can make the decision.\n",
    "\n",
    "#### 1. Find the minimum temperature of the day and store it in a variable."
   ]
  },
  {
   "cell_type": "code",
   "execution_count": null,
   "metadata": {},
   "outputs": [],
   "source": [
    "min_temperature = min(temperatures_C)\n",
    "print('The minimun temperature is:', min_temperature)"
   ]
  },
  {
   "cell_type": "markdown",
   "metadata": {},
   "source": [
    "#### 2. Find the maximum temperature of the day and store it in a variable."
   ]
  },
  {
   "cell_type": "code",
   "execution_count": null,
   "metadata": {},
   "outputs": [],
   "source": [
    "max_temperature = max(temperatures_C)\n",
    "print('The maximun temperature is:', max_temperature)"
   ]
  },
  {
   "cell_type": "markdown",
   "metadata": {},
   "source": [
    "#### 3. Create a list with the temperatures that are greater than or equal to 70ºC. Store it in a variable."
   ]
  },
  {
   "cell_type": "code",
   "execution_count": null,
   "metadata": {},
   "outputs": [],
   "source": [
    "exceeding_temp = []\n",
    "\n",
    "for i in range(0, len(temperatures_C)):\n",
    "    if temperatures_C[i] >= 70:\n",
    "        exceeding_temp.append(temperatures_C[i])\n",
    "\n",
    "print('The temperatures exceeding 70ºC are:', exceeding_temp)"
   ]
  },
  {
   "cell_type": "markdown",
   "metadata": {},
   "source": [
    "#### 4. Find the average temperature of the day and store it in a variable."
   ]
  },
  {
   "cell_type": "code",
   "execution_count": null,
   "metadata": {},
   "outputs": [],
   "source": [
    "avg_temperature_C = sum(temperatures_C)/len(temperatures_C)\n",
    "\n",
    "print('The average temperature is:', avg_temperature_C)"
   ]
  },
  {
   "cell_type": "markdown",
   "metadata": {},
   "source": [
    "#### 5. Imagine that there was a sensor failure at 3am and the data for that specific hour was not recorded. How would you estimate the missing value? Replace the current value of the list at 3am for an estimation. "
   ]
  },
  {
   "cell_type": "code",
   "execution_count": null,
   "metadata": {},
   "outputs": [],
   "source": [
    "def missing_value(i):\n",
    "    missing_value = temperatures_C[i-1] + ((temperatures_C[i+1] - temperatures_C[i-1])/((i+1) - (i-1))) * (i - (i-1))\n",
    "    return(missing_value)\n",
    "\n",
    "temperatures_C.insert(3,missing_value(3))\n",
    "temperatures_C.pop(4)\n",
    "\n",
    "print('Temperatures with missing value replacement', temperatures_C)"
   ]
  },
  {
   "cell_type": "markdown",
   "metadata": {},
   "source": [
    "#### 6. Bonus: the maintenance staff is from the United States and does not understand the international metric system. Help them by converting the temperatures from Celsius to Fahrenheit.\n",
    "To know more about temperature conversion check this [link](https://en.wikipedia.org/wiki/Conversion_of_units_of_temperature).\n",
    "\n",
    "**Formula**: \n",
    "\n",
    "$F = 1.8 * C + 32$"
   ]
  },
  {
   "cell_type": "code",
   "execution_count": null,
   "metadata": {},
   "outputs": [],
   "source": [
    "temperatures_F = []\n",
    "\n",
    "for i in range(0, len(temperatures_C)):\n",
    "    f = (1.8 * temperatures_C[i]) + 32\n",
    "    temperatures_F.append(f)\n",
    "\n",
    "print('Farenheit temperatures:', temperatures_F)"
   ]
  },
  {
   "cell_type": "markdown",
   "metadata": {},
   "source": [
    "#### 7. Make a decision!\n",
    "Now it's time to make a decision taking into account what you have seen until now. \n",
    "\n",
    "Remember that if one of the following events occurs, then the cooling system needs to be replaced for a new one to avoid damaging the processor.\n",
    "* More than 4 temperatures are greater than or equal to 70ºC.\n",
    "* Any temperature is above 80ºC.\n",
    "* The average temperature exceeds 65ºC.\n",
    "\n",
    "#### To make your decision, check if any of the three conditions above is met. You might need to use some of the variables you created in steps 1 to 6. Print a message to show if the cooling system needs to be changed or not."
   ]
  },
  {
   "cell_type": "code",
   "execution_count": null,
   "metadata": {},
   "outputs": [],
   "source": [
    "if len(exceeding_temp) > 4:\n",
    "    print('The cooling system needs to be replaced')\n",
    "elif max_temperature > 80:\n",
    "    print('The cooling system needs to be replaced')\n",
    "elif avg_temperature_C > 65:\n",
    "    print('The cooling system needs to be replaced')"
   ]
  },
  {
   "cell_type": "markdown",
   "metadata": {},
   "source": [
    "## Bonus\n",
    "\n",
    "The company has decided that the decision you made is not valid. They want you to analyze the data again but this time, the conditions that need to be met in order to change the cooling system are different.\n",
    "\n",
    "This time, if one of the following events occurs, then the cooling system needs to be replaced:\n",
    "* The temperature is greater than 70ºC during more than 4 consecutive hours.\n",
    "* Any temperature is above 80ºC.\n",
    "* The average temperature exceeds 65ºC.\n",
    "\n",
    "Follow the steps so that you can make the decision.\n",
    "\n",
    "#### 1. Create a list with the hours where the temperature is greater than 70ºC. Store it in a variable."
   ]
  },
  {
   "cell_type": "code",
   "execution_count": null,
   "metadata": {},
   "outputs": [],
   "source": [
    "excding_temp_hrs = []\n",
    "\n",
    "for i in range(0, len(temperatures_C)):\n",
    "    if temperatures_C[i] > 70:\n",
    "        excding_temp_hrs.append(i)\n",
    "print('Exceding temperature hours:', excding_temp_hrs)"
   ]
  },
  {
   "cell_type": "markdown",
   "metadata": {},
   "source": [
    "#### 2. Check if the list you created in step 1 has more than 4 consecutive hours. "
   ]
  },
  {
   "cell_type": "code",
   "execution_count": null,
   "metadata": {},
   "outputs": [],
   "source": []
  },
  {
   "cell_type": "markdown",
   "metadata": {},
   "source": [
    "#### 3. Make the decision!\n",
    "To make your decision, check if any of the three conditions is met. Print a message to show if the cooling system needs to be changed or not."
   ]
  },
  {
   "cell_type": "code",
   "execution_count": null,
   "metadata": {},
   "outputs": [],
   "source": [
    "if {excding_temp_hrs[1] == excding_temp_hrs[0] + 1 and\n",
    "    excding_temp_hrs[2] == excding_temp_hrs[1] + 1 and\n",
    "    excding_temp_hrs[3] == excding_temp_hrs[2] + 1 and \n",
    "    excding_temp_hrs[4] == excding_temp_hrs[3] + 1}:\n",
    "    print('The exceeding temperature list has more than 4 consecutive hours: the cooling system needs to be replaced')\n",
    "elif max_temperature > 80:\n",
    "    print('The cooling system needs to be replaced')\n",
    "elif avg_temperature_C > 65:\n",
    "    print('The cooling system needs to be replaced')"
   ]
  },
  {
   "cell_type": "markdown",
   "metadata": {},
   "source": [
    "#### 4. Find the average value of the temperature lists (ºC and ºF). What is the relation between both average values?"
   ]
  },
  {
   "cell_type": "code",
   "execution_count": null,
   "metadata": {},
   "outputs": [],
   "source": [
    "avg_temperature_F = sum(temperatures_F)/len(temperatures_F)\n",
    "\n",
    "print('The average temperature in Farenheit is:', avg_temperature_F)\n",
    "print('The average temperature in Farenheit, is a linear transformation of the Celcius one: Avg(F) = 1.8*Avg(C)+32')"
   ]
  },
  {
   "cell_type": "markdown",
   "metadata": {},
   "source": [
    "#### 5. Find the standard deviation of the temperature lists (ºC and ºF). What is the relation between both standard deviations?"
   ]
  },
  {
   "cell_type": "code",
   "execution_count": null,
   "metadata": {},
   "outputs": [],
   "source": [
    "squared_dev_C = []\n",
    "for i in temperatures_C:\n",
    "    i = (i - avg_temperature_C) ** 2\n",
    "    squared_dev_C.append(i)\n",
    "\n",
    "standard_dev_C = (sum(squared_dev_C)/len(temperatures_C)) ** (1/2)\n",
    "print('The standard deviation for the temperature in Celcius is:', standard_dev_C)\n",
    "\n",
    "squared_dev_F = []\n",
    "for i in temperatures_F:\n",
    "    i = (i - avg_temperature_F) ** 2\n",
    "    squared_dev_F.append(i)\n",
    "\n",
    "standard_dev_F = (sum(squared_dev_F)/len(temperatures_F)) ** (1/2)\n",
    "print('The standard deviation for the temperature in Farenheit is:', standard_dev_F)\n",
    "print('The standard deviations are proportional by a factor of 1.8: SD(F) = 1.8*SD(C)')"
   ]
  }
 ],
 "metadata": {
  "kernelspec": {
   "display_name": "Python 3",
   "language": "python",
   "name": "python3"
  },
  "language_info": {
   "codemirror_mode": {
    "name": "ipython",
    "version": 3
   },
   "file_extension": ".py",
   "mimetype": "text/x-python",
   "name": "python",
   "nbconvert_exporter": "python",
   "pygments_lexer": "ipython3",
   "version": "3.9.5"
  }
 },
 "nbformat": 4,
 "nbformat_minor": 2
}
